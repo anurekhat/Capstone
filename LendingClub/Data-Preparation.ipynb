{
 "cells": [
  {
   "cell_type": "code",
   "execution_count": 1,
   "metadata": {
    "collapsed": false
   },
   "outputs": [],
   "source": [
    "import pandas as pd\n",
    "import numpy as np\n",
    "import matplotlib.pyplot as plt\n",
    "import seaborn as sns\n",
    "import scipy.stats as st\n",
    "import statsmodels.stats.weightstats as wst\n",
    "import pandas_ml as pdml\n",
    "\n",
    "from sklearn.metrics import accuracy_score\n",
    "from sklearn.metrics import precision_recall_fscore_support\n",
    "from sklearn.metrics import f1_score\n",
    "from sklearn.metrics import confusion_matrix\n",
    "\n",
    "%matplotlib inline\n",
    "pd.options.display.max_columns = None\n",
    "pd.options.display.max_rows = None\n",
    "plt.rcParams['figure.figsize'] = (10.0, 8.0)"
   ]
  },
  {
   "cell_type": "code",
   "execution_count": 2,
   "metadata": {
    "collapsed": false
   },
   "outputs": [],
   "source": [
    "# Read the dataset.\n",
    "\n",
    "# Define a function for string % convertion to a float ratio\n",
    "def p2f(x):\n",
    "    perc = None\n",
    "    if (x != None) :\n",
    "        if (type(x) is str) :\n",
    "            x = x.strip('%')\n",
    "        perc = float(x)/100\n",
    "    return perc\n",
    "\n",
    "loans_2014 = pd.read_csv('./LoanStats2014.csv', skiprows=1, skipfooter=2, parse_dates = [15, 26, 45,47, 48], \n",
    "                        infer_datetime_format = True, engine = 'python', converters = {'int_rate' : p2f, 'revol_util' : p2f})"
   ]
  },
  {
   "cell_type": "code",
   "execution_count": 3,
   "metadata": {
    "collapsed": true
   },
   "outputs": [],
   "source": [
    "loans_1213 = pd.read_csv('./LoanStats2012to2013.csv', skiprows=1, skipfooter=2, parse_dates = [15, 26, 45,47, 48], \n",
    "                        infer_datetime_format = True, engine = 'python', converters = {'int_rate' : p2f, 'revol_util' : p2f})"
   ]
  },
  {
   "cell_type": "code",
   "execution_count": 64,
   "metadata": {
    "collapsed": false
   },
   "outputs": [],
   "source": [
    "#Merging the datasets\n",
    "frames = [loans_2014, loans_1213]\n",
    "loan_data = pd.concat(frames, axis = 0)"
   ]
  },
  {
   "cell_type": "code",
   "execution_count": 65,
   "metadata": {
    "collapsed": false
   },
   "outputs": [],
   "source": [
    "loan_data['revol_util'] = loan_data['revol_util'].astype(np.float64)"
   ]
  },
  {
   "cell_type": "code",
   "execution_count": 66,
   "metadata": {
    "collapsed": true
   },
   "outputs": [],
   "source": [
    "#Removing the attribute columns that have all null values. Only the attributes listed in the above DataDictionary will remain.\n",
    "loan_data.dropna(axis = 1, how = 'all', inplace= True)\n",
    "\n",
    "#Since id values are not provided in the dataset, create id variable from the index.\n",
    "loan_data['id'] = loan_data.index\n"
   ]
  },
  {
   "cell_type": "code",
   "execution_count": 67,
   "metadata": {
    "collapsed": true
   },
   "outputs": [],
   "source": [
    "loan_data['term_mnths'] = loan_data.term.str.strip('months').astype(int)"
   ]
  },
  {
   "cell_type": "code",
   "execution_count": 68,
   "metadata": {
    "collapsed": false
   },
   "outputs": [
    {
     "data": {
      "text/plain": [
       "423810"
      ]
     },
     "execution_count": 68,
     "metadata": {},
     "output_type": "execute_result"
    }
   ],
   "source": [
    "len(loan_data)"
   ]
  },
  {
   "cell_type": "code",
   "execution_count": 69,
   "metadata": {
    "collapsed": false
   },
   "outputs": [
    {
     "data": {
      "text/plain": [
       "306462"
      ]
     },
     "execution_count": 69,
     "metadata": {},
     "output_type": "execute_result"
    }
   ],
   "source": [
    "#Filtering out the 36 months term loans\n",
    "loan_data = loan_data[loan_data.term_mnths == 36]\n",
    "len(loan_data)"
   ]
  },
  {
   "cell_type": "code",
   "execution_count": 70,
   "metadata": {
    "collapsed": true
   },
   "outputs": [],
   "source": [
    "#Dropping textual columns from the dataset\n",
    "loan_data.drop(['emp_title', 'desc', 'title'], axis = 1, inplace = True)"
   ]
  },
  {
   "cell_type": "code",
   "execution_count": 71,
   "metadata": {
    "collapsed": false
   },
   "outputs": [],
   "source": [
    "#Marking loans that had at least one late payment\n",
    "loan_data['late_fee_rec_indicator'] = (loan_data.total_rec_late_fee > 0)\n"
   ]
  },
  {
   "cell_type": "code",
   "execution_count": 12,
   "metadata": {
    "collapsed": false
   },
   "outputs": [],
   "source": [
    "#loans across different loan statuses\n",
    "#sns.countplot(x = 'loan_status', hue = 'late_fee_rec_indicator', data = loan_data)"
   ]
  },
  {
   "cell_type": "code",
   "execution_count": 72,
   "metadata": {
    "collapsed": false
   },
   "outputs": [],
   "source": [
    "# Classify the loans as 'Good' ,'Bad', 'Delinquent'\n",
    "\n",
    "def classify_loan(row) :\n",
    "    val = ''\n",
    "    if ((row.loan_status in ['Fully Paid', 'Current']) ) :\n",
    "        val = '0-Good'\n",
    "    else :\n",
    "        val = '1-Bad'\n",
    "    return val\n",
    "\n",
    "loan_data['loan_class'] = loan_data.apply(classify_loan, axis = 1)"
   ]
  },
  {
   "cell_type": "code",
   "execution_count": 73,
   "metadata": {
    "collapsed": false
   },
   "outputs": [
    {
     "data": {
      "text/html": [
       "<div>\n",
       "<table border=\"1\" class=\"dataframe\">\n",
       "  <thead>\n",
       "    <tr style=\"text-align: right;\">\n",
       "      <th></th>\n",
       "      <th>0</th>\n",
       "    </tr>\n",
       "    <tr>\n",
       "      <th>loan_class</th>\n",
       "      <th></th>\n",
       "    </tr>\n",
       "  </thead>\n",
       "  <tbody>\n",
       "    <tr>\n",
       "      <th>0-Good</th>\n",
       "      <td>265808</td>\n",
       "    </tr>\n",
       "    <tr>\n",
       "      <th>1-Bad</th>\n",
       "      <td>40654</td>\n",
       "    </tr>\n",
       "  </tbody>\n",
       "</table>\n",
       "</div>"
      ],
      "text/plain": [
       "                 0\n",
       "loan_class        \n",
       "0-Good      265808\n",
       "1-Bad        40654"
      ]
     },
     "execution_count": 73,
     "metadata": {},
     "output_type": "execute_result"
    }
   ],
   "source": [
    "pd.DataFrame(loan_data.groupby('loan_class').size())"
   ]
  },
  {
   "cell_type": "code",
   "execution_count": 74,
   "metadata": {
    "collapsed": false
   },
   "outputs": [],
   "source": [
    "#Transform date fields into appropriate duration units\n",
    "from datetime import datetime\n",
    "loans = loan_data.copy()\n",
    "ref_datetime = datetime.strptime('2017-04-02', '%Y-%m-%d')\n",
    "\n",
    "# Earliest credit line\n",
    "loans['mo_sin_earliest_cr_line'] = ((ref_datetime - loans['earliest_cr_line']) / np.timedelta64(1, 'M')).astype(int)"
   ]
  },
  {
   "cell_type": "code",
   "execution_count": 75,
   "metadata": {
    "collapsed": false
   },
   "outputs": [],
   "source": [
    "#Imputing missing values and converting to duration units\n",
    "\n",
    "#last_credit_pull_d\n",
    "#Setting the nulls to May 2017, so that the calculated duration field will have the value -1\n",
    "loans['last_credit_pull_d'] = loans['last_credit_pull_d'].fillna(pd.to_datetime('2017-05-03'))\n",
    "loans['mo_sin_last_credit_pull'] = ((ref_datetime - loans['last_credit_pull_d']) / np.timedelta64(1, 'M')).astype(int)"
   ]
  },
  {
   "cell_type": "code",
   "execution_count": 76,
   "metadata": {
    "collapsed": false
   },
   "outputs": [],
   "source": [
    "#Drop the now unused columns\n",
    "loans.drop([ 'earliest_cr_line', 'last_credit_pull_d'], axis = 1, inplace = True)\n"
   ]
  },
  {
   "cell_type": "code",
   "execution_count": 77,
   "metadata": {
    "collapsed": true
   },
   "outputs": [],
   "source": [
    "# Imputing missing values\n",
    "\n",
    "#mths_since_last_delinq\n",
    "# this will be null when the applicant has no prior delinquencies. Imputing these to -1 to set these apart.\n",
    "loans['mths_since_last_delinq'] = loans['mths_since_last_delinq'].fillna(-1)\n",
    "\n",
    "#mths_since_last_record\n",
    "# this will be null when the applicant has no public records. Imputing these to -1 to set these apart.\n",
    "loans['mths_since_last_record'] = loans['mths_since_last_record'].fillna(-1)\n",
    "\n",
    "#mths_since_last_major_derog\n",
    "# this will be null when the applicant has no previous derogatory records. Imputing these to -1 to set these apart.\n",
    "loans['mths_since_last_major_derog'] = loans['mths_since_last_major_derog'].fillna(-1)\n",
    "\n",
    "#mo_sin_old_il_acct\n",
    "# this will be null when the applicant has no bank installment accounts. Imputing these to -1 to set these apart.\n",
    "loans['mo_sin_old_il_acct'] = loans['mo_sin_old_il_acct'].fillna(-1)\n",
    "\n",
    "#mths_since_recent_bc_dlq\n",
    "# this will be null when there's no previous bankcard delinquency. Imputing these to -1 to set these apart.\n",
    "loans['mths_since_recent_bc_dlq'] = loans['mths_since_recent_bc_dlq'].fillna(-1)\n",
    "\n",
    "#mths_since_recent_inq\n",
    "# this will be null when there's no previous inquiries. Imputing these to -1 to set these apart.\n",
    "loans['mths_since_recent_inq'] = loans['mths_since_recent_inq'].fillna(-1)\n",
    "\n",
    "#mths_since_recent_revol_delinq\n",
    "# this will be null when there's no previous revolving account delinquencies. Imputing these to -1 to set these apart.\n",
    "loans['mths_since_recent_revol_delinq'] = loans['mths_since_recent_revol_delinq'].fillna(-1)\n",
    "\n",
    "#num_tl_120dpd_2m\n",
    "# this will be null when info is missing. Imputing these to 0.\n",
    "#loans['num_tl_120dpd_2m'] = loans['num_tl_120dpd_2m'].fillna(0)\n"
   ]
  },
  {
   "cell_type": "code",
   "execution_count": 78,
   "metadata": {
    "collapsed": false
   },
   "outputs": [],
   "source": [
    "#Removing some loan records which have nans for many critical features. (total credit limit, accounts past due etc)\n",
    "loans.dropna(axis = 0, how = 'any', subset = ['tot_hi_cred_lim', 'tot_cur_bal', 'num_tl_120dpd_2m', 'revol_util',\n",
    "                                             'bc_open_to_buy', 'bc_util', 'mths_since_recent_bc', 'pct_tl_nvr_dlq'], \n",
    "             inplace = True)\n"
   ]
  },
  {
   "cell_type": "code",
   "execution_count": 79,
   "metadata": {
    "collapsed": false
   },
   "outputs": [
    {
     "data": {
      "text/plain": [
       "274171"
      ]
     },
     "execution_count": 79,
     "metadata": {},
     "output_type": "execute_result"
    }
   ],
   "source": [
    "len(loans)"
   ]
  },
  {
   "cell_type": "code",
   "execution_count": 80,
   "metadata": {
    "collapsed": true
   },
   "outputs": [],
   "source": [
    "#Removing addr_state from dataset\n",
    "loans.drop(['addr_state'], axis = 1, inplace = True)"
   ]
  },
  {
   "cell_type": "code",
   "execution_count": 81,
   "metadata": {
    "collapsed": false
   },
   "outputs": [],
   "source": [
    "# Convert categorical features to One Hot Encode format using Pandas getDummies\n",
    "categorical_features = ['grade', 'sub_grade', 'home_ownership','emp_length', 'verification_status', 'pymnt_plan', 'purpose', \n",
    "                       'initial_list_status']\n",
    "loans_with_dummies = pd.get_dummies(columns = categorical_features, data= loans)"
   ]
  },
  {
   "cell_type": "code",
   "execution_count": 82,
   "metadata": {
    "collapsed": false
   },
   "outputs": [],
   "source": [
    "# setting up learning and test sets\n",
    "\n",
    "from sklearn.model_selection import train_test_split\n",
    "\n",
    "# Identifying X values - Removing all derived columns, date columns, id and constants\n",
    "X = loans_with_dummies.drop(['term','issue_d', 'zip_code','loan_status', 'application_type','id','term_mnths', 'late_fee_rec_indicator', \n",
    "                             'loan_class', 'next_pymnt_d', 'last_pymnt_d', 'collection_recovery_fee', 'last_pymnt_amnt',\n",
    "                            'out_prncp', 'out_prncp_inv', 'recoveries', 'total_pymnt', 'total_pymnt_inv', 'total_rec_int',\n",
    "                            'total_rec_late_fee', 'total_rec_prncp'], axis = 1)\n",
    "X.rename(columns = {'emp_length_< 1 year': 'emp_length_lt 1 year'}, inplace = True)\n",
    "loans_with_dummies['loan_class'] = loans_with_dummies.loan_class.astype('category')\n",
    "Y = loans_with_dummies.loan_class.cat.codes\n",
    "#Y = loans_with_dummies.loan_class\n"
   ]
  },
  {
   "cell_type": "code",
   "execution_count": 83,
   "metadata": {
    "collapsed": false
   },
   "outputs": [],
   "source": [
    "#create ModelFrame object\n",
    "loans_mf = pdml.ModelFrame(X, target = Y)\n",
    "loans_mf.to_csv('prepared_loans.csv', index = False)"
   ]
  },
  {
   "cell_type": "code",
   "execution_count": 91,
   "metadata": {
    "collapsed": false
   },
   "outputs": [],
   "source": [
    "#Split into training and test data sets\n",
    "train_loans, test_loans = loans_mf.model_selection.train_test_split(test_size = 0.30, random_state = 5)"
   ]
  },
  {
   "cell_type": "code",
   "execution_count": 119,
   "metadata": {
    "collapsed": false
   },
   "outputs": [],
   "source": [
    "#Oversampling the training dataset\n",
    "sampler = train_loans.imbalance.over_sampling.RandomOverSampler()\n",
    "sampled_lr_loans = train_loans.fit_sample(sampler)"
   ]
  },
  {
   "cell_type": "code",
   "execution_count": 120,
   "metadata": {
    "collapsed": false
   },
   "outputs": [
    {
     "data": {
      "text/plain": [
       "1    164070\n",
       "0    164070\n",
       "Name: .target, dtype: int64"
      ]
     },
     "execution_count": 120,
     "metadata": {},
     "output_type": "execute_result"
    }
   ],
   "source": [
    "sampled_lr_loans.to_csv('prepared_sampled_loans.csv')"
   ]
  }
 ],
 "metadata": {
  "kernelspec": {
   "display_name": "Python 3",
   "language": "python",
   "name": "python3"
  },
  "language_info": {
   "codemirror_mode": {
    "name": "ipython",
    "version": 3
   },
   "file_extension": ".py",
   "mimetype": "text/x-python",
   "name": "python",
   "nbconvert_exporter": "python",
   "pygments_lexer": "ipython3",
   "version": "3.6.0"
  }
 },
 "nbformat": 4,
 "nbformat_minor": 2
}
