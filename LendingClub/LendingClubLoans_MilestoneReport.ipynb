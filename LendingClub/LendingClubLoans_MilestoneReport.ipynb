{
 "cells": [
  {
   "cell_type": "markdown",
   "metadata": {},
   "source": [
    "# Study of Lending Club loans\n",
    "\n",
    "## Introduction\n",
    "\n",
    "Lending Club is an online credit marketplace, facilitating personal loans, business loans, and financing for elective medical procedures. Lending Club has provided datasets that contain complete loan data for all loans issued through the specific time period stated, including the current loan status (Current, Late, Fully Paid, etc.) , latest payment information and the financial and credit rating information about the loan applicant collected by Lending Club.\n",
    "\n",
    "## Objective\n",
    "\n",
    " The Capstone project aims to learn the payment patterns of applicants and build a predictive model that will predict the repayment class of the loan. For this study, the loan repayment type has been classified into three as follows\n",
    " \n",
    "  - **Good loans** - The installments will be always on time and the loan will be fully paid on or before the end of loan term.\n",
    "  - **Bad loans** - The loan will end up in Charge Off and LendingClub will end up in spending for collection and recoveries process.\n",
    "  - **Delinquent loans** - The loan installments will be delayed one or more times but not likely to end up in charge off.\n",
    "  \n",
    "## Data\n",
    "\n",
    " We will be considering the LendingClub dataset for the year 2014. At a high level, the dataset contains the below attribute groups. \n",
    " \n",
    "  - *Applicant Identity* - Basic Identity information about the applicant like home state, employment length, home-ownership type etc\n",
    "  - *Applicant Income* - The reported annual income as provided by the applicant and the verification status\n",
    "  - *Loan* - Attributes directly related to the loan like the loan purpose, amount, interest rate, status, payment of various fees etc\n",
    "  - *Credit History* - Attributes collected about the applicant's credit history like no. of bankcard accounts, mortgage accounts, credit balances, debt to income ratio etc\n",
    "  - *Delinquency History* - Attributes collected about the applicant's previous delinquent payments like no. of chargeoffs / collections, no. of accounts past due payment etc.\n",
    "  \n",
    "  \n",
    "  - The *loan_status* attribute can be one among the following.\n",
    "      - 'Fully Paid'\n",
    "      - 'Current'\n",
    "      - 'In Grace Period'\n",
    "      - 'Late (16-30 days)'\n",
    "      - 'Late (31-120 days)'\n",
    "      - 'Default'\n",
    "      - 'Charged Off'\n",
    "  \n",
    "    The detailed list of attributes can be viewed [ here ] ('https://github.com/anurekhat/Capstone/blob/master/LendingClub/LCDataDictionary2014.xlsx '). \n",
    "  \n",
    "\n",
    "###  Data Clean ups, filtering and transformations\n",
    " \n",
    " \n",
    "  - The below attributes have been dropped for further analysis as they are manual text entries that serves more as just informational. \n",
    "      - *emp_title*\n",
    "      - *desc*\n",
    "      - *title*\n",
    "      \n",
    "      \n",
    "  - There are two available terms for loans - 36 months and 60 months. For this study, we consider only the 36 months term loans as the 60 months term loans initiated in 2014 will be mostly still running as on 2017 and including them may skew the features of 'Charged Off' loans. \n",
    "  \n",
    "  \n",
    "  - The loan records with *total_rec_late_fee* as a non-zero value have been marked as delinquent. i.e If the applicant has ever paid a late fee, that loan is marked as delinquent. Please see the explanation on **Classification** below\n",
    "  \n",
    "  - The below date attributes have been converted to the appropriate duration attribute, considering Apr 2017 as the reference date\n",
    "      - *issue_d* converted to *mo_sin_loan_funded* (months since loan was funded)\n",
    "      - *earliest_cr_line* converted to *mo_sin_earliest_cr_line* (months since the earliest credit line was opened)\n",
    "      - *last_pymnt_d* converted to *mo_sin_last_pymnt* (months since the last payment)\n",
    "      - *last_credit_pull_d* converted to *mo_sin_last_credit_pull* (months since the last credit pull by LC)\n",
    "      \n",
    "  - **Imputing Missing Values**\n",
    "      - *last_pymnt_d* (*mo_sin_last_pymnt*) : This attribute is expected to be null when there has not been any installments that were paid. The date is set to May 2017 so that the duration attribute holds the value -1 and these records are considered separate by the model estimator\n",
    "      - *last_credit_pull_d* (*mo_sin_last_credit_pull*) : This attribute is expected to be null when LC has not pulled the credit info of the applicant. The date is set to May 2017 so that the duration attribute holds the value -1 and these records are considered separate by the model estimator\n",
    "      - *mths_since_last_delinq* : This attribute is expected to be null when the applicant has no prior delinquencies. Imputing these to -1 to set these apart\n",
    "      - *mths_since_last_record* : This attribute is expected to be null when the applicant has no public records. Imputing these to -1 to set these apart\n",
    "      - *mths_since_last_major_derog* : This attribute is expected to be null when the applicant has no previous derogatory records. Imputing these to -1 to set these apart\n",
    "      - *mo_sin_old_il_acct* : This attribute is expected to be null when the applicant has no bank installment accounts. Imputing these to -1 to set these apart\n",
    "      - *mths_since_recent_bc_dlq* : This attribute is expected to be null when there's no previous bankcard delinquency. Imputing these to -1 to set these apart\n",
    "      - *mths_since_recent_inq* : This attribute is expected to be null when there's no previous inquiries. Imputing these to -1 to set these apart\n",
    "      - *mths_since_recent_revol_delinq* : This attribute is expected to be null when there's no previous revolving account delinquencies. Imputing these to -1 to set these apart\n",
    "      - *num_tl_120dpd_2m* : This attribute is expected to be null when there's no accounts currently 120 days past due. Imputing these to 0\n",
    "      - *mths_since_recent_bc* : This attribute is expected to be null when info not available. Imputing these to the median\n",
    "      - *bc_open_to_buy* : This attribute is expected to be null when info is not available. Imputing these to the median\n",
    "      - *bc_util* : This attribute is expected to be null when info is not available. Imputing these to the median\n",
    "      - *avg_cur_bal* : This attribute is expected to be null when info is not available. Imputing these to the median\n",
    "      - *percent_bc_gt_75* : This attribute is expected to be null when info is not available. Imputing these to the median\n",
    "      - *revol_util* : This attribute is expected to be null when info is not available. Imputing these to the median\n",
    "      \n",
    "  - **Categorical features** \n",
    "      Categorical features have been converted to the 'One Hot Encoding' format using pandas `get_Dummies()` method\n",
    "      \n",
    "  - The following attributes are not being considered as the 'X' independent variables in the model as these are not expected to impact the outcome variable of loan_class\n",
    "      - *term* : As it will be always 36 months\n",
    "      - *zip_code* : The 3 digit coded value is not expected to impact outcome\n",
    "      - *loan_status* : This is more part of the outcome than an input variable\n",
    "      - *application_type* : As it will be always 'INDIVIDUAL'\n",
    "      - *id* : Identifier \n",
    "      - *next_pymnt_d* : Not expected to impact outcome\n",
    "\n",
    "      \n",
    "      \n",
    "#### Classification\n",
    "   1. All loan records where *loan_status* is 'Fully Paid' or 'Current' and *total_rec_late_fee* is zero are classified as **Good**\n",
    "      \n",
    "      \n",
    "   2. All loan records with *loan_status* 'Charged Off' are classified as **Bad**\n",
    "      \n",
    "      \n",
    "   3. All loan records that have a non-zero value for *total_rec_late_fee* or loan_status is one among { 'In Grace Period', 'Late (16-30 days)', 'Late (31-120 days)', 'Default'} is classified as **Delinquent**. Note that there could be some >Charged Off loans that could have been also delinquent. The Charged off status will take priority in such cases and those loans will be classified as **Bad** \n",
    "      \n",
    "  \n",
    "## Methodology\n",
    "\n",
    "The cleaned up dataset has been divided into training (70%) and test (30%) datasets. As a first step, a simple logistic regression model has been built using the training dataset. \n",
    " "
   ]
  },
  {
   "cell_type": "code",
   "execution_count": 1,
   "metadata": {
    "collapsed": true
   },
   "outputs": [],
   "source": [
    "import pandas as pd\n",
    "import numpy as np\n",
    "import matplotlib.pyplot as plt\n",
    "import seaborn as sns\n",
    "import scipy.stats as st\n",
    "import statsmodels.stats.weightstats as wst\n",
    "%matplotlib inline\n",
    "pd.options.display.max_columns = None\n",
    "pd.options.display.max_rows = None\n",
    "plt.rcParams['figure.figsize'] = (10.0, 8.0)"
   ]
  },
  {
   "cell_type": "code",
   "execution_count": 2,
   "metadata": {
    "collapsed": false
   },
   "outputs": [],
   "source": [
    "# Read the dataset.\n",
    "\n",
    "# Define a function for string % convertion to a float ratio\n",
    "def p2f(x):\n",
    "    perc = None\n",
    "    if (x != None) :\n",
    "        if (type(x) is str) :\n",
    "            x = x.strip('%')\n",
    "        perc = float(x)/100\n",
    "    return perc\n",
    "\n",
    "loan_data = pd.read_csv('./LoanStats2014.csv', skiprows=1, skipfooter=2, parse_dates = [15, 26, 45,47, 48], \n",
    "                        infer_datetime_format = True, engine = 'python', converters = {'int_rate' : p2f, 'revol_util' : p2f})"
   ]
  },
  {
   "cell_type": "code",
   "execution_count": 3,
   "metadata": {
    "collapsed": true
   },
   "outputs": [],
   "source": [
    "#Removing the attribute columns that have all null values. Only the attributes listed in the above DataDictionary will remain.\n",
    "loan_data.dropna(axis = 1, how = 'all', inplace= True)\n",
    "\n",
    "#Since id values are not provided in the dataset, create id variable from the index.\n",
    "loan_data['id'] = loan_data.index\n"
   ]
  },
  {
   "cell_type": "code",
   "execution_count": 4,
   "metadata": {
    "collapsed": true
   },
   "outputs": [],
   "source": [
    "loan_data['term_mnths'] = loan_data.term.str.strip('months').astype(int)"
   ]
  },
  {
   "cell_type": "code",
   "execution_count": 5,
   "metadata": {
    "collapsed": false
   },
   "outputs": [
    {
     "data": {
      "text/plain": [
       "235629"
      ]
     },
     "execution_count": 5,
     "metadata": {},
     "output_type": "execute_result"
    }
   ],
   "source": [
    "len(loan_data)"
   ]
  },
  {
   "cell_type": "code",
   "execution_count": 6,
   "metadata": {
    "collapsed": false
   },
   "outputs": [
    {
     "data": {
      "text/plain": [
       "162570"
      ]
     },
     "execution_count": 6,
     "metadata": {},
     "output_type": "execute_result"
    }
   ],
   "source": [
    "#Filtering out the 36 months term loans\n",
    "loan_data = loan_data[loan_data.term_mnths == 36]\n",
    "len(loan_data)"
   ]
  },
  {
   "cell_type": "code",
   "execution_count": 7,
   "metadata": {
    "collapsed": true
   },
   "outputs": [],
   "source": [
    "#Dropping textual columns from the dataset\n",
    "loan_data.drop(['emp_title', 'desc', 'title'], axis = 1, inplace = True)"
   ]
  },
  {
   "cell_type": "code",
   "execution_count": 8,
   "metadata": {
    "collapsed": false
   },
   "outputs": [],
   "source": [
    "#Marking loans that had at least one late payment\n",
    "loan_data['late_fee_rec_indicator'] = (loan_data.total_rec_late_fee > 0)\n"
   ]
  },
  {
   "cell_type": "code",
   "execution_count": 9,
   "metadata": {
    "collapsed": false
   },
   "outputs": [],
   "source": [
    "#loans across different loan statuses\n",
    "#sns.countplot(x = 'loan_status', hue = 'late_fee_rec_indicator', data = loan_data)"
   ]
  },
  {
   "cell_type": "code",
   "execution_count": 10,
   "metadata": {
    "collapsed": false
   },
   "outputs": [],
   "source": [
    "# Classify the loans as 'Good' ,'Bad', 'Delinquent'\n",
    "\n",
    "def classify_loan(row) :\n",
    "    val = ''\n",
    "    if ((row.loan_status in ['Fully Paid', 'Current']) & (row.late_fee_rec_indicator == False) ) :\n",
    "        val = 'Good'\n",
    "    elif row.loan_status in ['Charged Off'] :\n",
    "        val = 'Bad'\n",
    "    elif ( (row.loan_status not in ['Fully Paid', 'Current', 'Charged Off']) | \n",
    "         row.late_fee_rec_indicator == True) :\n",
    "        val = 'Delinquent'\n",
    "    return val\n",
    "\n",
    "loan_data['loan_class'] = loan_data.apply(classify_loan, axis = 1)"
   ]
  },
  {
   "cell_type": "code",
   "execution_count": 11,
   "metadata": {
    "collapsed": false
   },
   "outputs": [
    {
     "data": {
      "text/html": [
       "<div>\n",
       "<table border=\"1\" class=\"dataframe\">\n",
       "  <thead>\n",
       "    <tr style=\"text-align: right;\">\n",
       "      <th></th>\n",
       "      <th></th>\n",
       "      <th></th>\n",
       "      <th>0</th>\n",
       "    </tr>\n",
       "    <tr>\n",
       "      <th>loan_class</th>\n",
       "      <th>loan_status</th>\n",
       "      <th>late_fee_rec_indicator</th>\n",
       "      <th></th>\n",
       "    </tr>\n",
       "  </thead>\n",
       "  <tbody>\n",
       "    <tr>\n",
       "      <th rowspan=\"2\" valign=\"top\">Bad</th>\n",
       "      <th rowspan=\"2\" valign=\"top\">Charged Off</th>\n",
       "      <th>False</th>\n",
       "      <td>17453</td>\n",
       "    </tr>\n",
       "    <tr>\n",
       "      <th>True</th>\n",
       "      <td>1927</td>\n",
       "    </tr>\n",
       "    <tr>\n",
       "      <th rowspan=\"10\" valign=\"top\">Delinquent</th>\n",
       "      <th>Current</th>\n",
       "      <th>True</th>\n",
       "      <td>956</td>\n",
       "    </tr>\n",
       "    <tr>\n",
       "      <th rowspan=\"2\" valign=\"top\">Default</th>\n",
       "      <th>False</th>\n",
       "      <td>3</td>\n",
       "    </tr>\n",
       "    <tr>\n",
       "      <th>True</th>\n",
       "      <td>2</td>\n",
       "    </tr>\n",
       "    <tr>\n",
       "      <th>Fully Paid</th>\n",
       "      <th>True</th>\n",
       "      <td>1076</td>\n",
       "    </tr>\n",
       "    <tr>\n",
       "      <th rowspan=\"2\" valign=\"top\">In Grace Period</th>\n",
       "      <th>False</th>\n",
       "      <td>1015</td>\n",
       "    </tr>\n",
       "    <tr>\n",
       "      <th>True</th>\n",
       "      <td>110</td>\n",
       "    </tr>\n",
       "    <tr>\n",
       "      <th rowspan=\"2\" valign=\"top\">Late (16-30 days)</th>\n",
       "      <th>False</th>\n",
       "      <td>300</td>\n",
       "    </tr>\n",
       "    <tr>\n",
       "      <th>True</th>\n",
       "      <td>63</td>\n",
       "    </tr>\n",
       "    <tr>\n",
       "      <th rowspan=\"2\" valign=\"top\">Late (31-120 days)</th>\n",
       "      <th>False</th>\n",
       "      <td>1276</td>\n",
       "    </tr>\n",
       "    <tr>\n",
       "      <th>True</th>\n",
       "      <td>217</td>\n",
       "    </tr>\n",
       "    <tr>\n",
       "      <th rowspan=\"2\" valign=\"top\">Good</th>\n",
       "      <th>Current</th>\n",
       "      <th>False</th>\n",
       "      <td>48236</td>\n",
       "    </tr>\n",
       "    <tr>\n",
       "      <th>Fully Paid</th>\n",
       "      <th>False</th>\n",
       "      <td>89936</td>\n",
       "    </tr>\n",
       "  </tbody>\n",
       "</table>\n",
       "</div>"
      ],
      "text/plain": [
       "                                                          0\n",
       "loan_class loan_status        late_fee_rec_indicator       \n",
       "Bad        Charged Off        False                   17453\n",
       "                              True                     1927\n",
       "Delinquent Current            True                      956\n",
       "           Default            False                       3\n",
       "                              True                        2\n",
       "           Fully Paid         True                     1076\n",
       "           In Grace Period    False                    1015\n",
       "                              True                      110\n",
       "           Late (16-30 days)  False                     300\n",
       "                              True                       63\n",
       "           Late (31-120 days) False                    1276\n",
       "                              True                      217\n",
       "Good       Current            False                   48236\n",
       "           Fully Paid         False                   89936"
      ]
     },
     "execution_count": 11,
     "metadata": {},
     "output_type": "execute_result"
    }
   ],
   "source": [
    "pd.DataFrame( loan_data.groupby(['loan_class', 'loan_status','late_fee_rec_indicator']).size())"
   ]
  },
  {
   "cell_type": "code",
   "execution_count": 12,
   "metadata": {
    "collapsed": false
   },
   "outputs": [],
   "source": [
    "#Transform date fields into appropriate duration units\n",
    "from datetime import datetime\n",
    "loans = loan_data.copy()\n",
    "ref_datetime = datetime.strptime('2017-04-02', '%Y-%m-%d')\n",
    "# Issue date\n",
    "loans['mo_sin_loan_funded'] = ((ref_datetime - loans['issue_d']) / np.timedelta64(1, 'M')).astype(int)\n",
    "\n",
    "# Earliest credit line\n",
    "loans['mo_sin_earliest_cr_line'] = ((ref_datetime - loans['earliest_cr_line']) / np.timedelta64(1, 'M')).astype(int)"
   ]
  },
  {
   "cell_type": "code",
   "execution_count": 13,
   "metadata": {
    "collapsed": false
   },
   "outputs": [],
   "source": [
    "#Imputing missing values and converting to duration units\n",
    "#Last payment date is null when no installments have been made. Setting the nulls to May 2017, so that the calculated duration\n",
    "# field will have the value -1\n",
    "loans['last_pymnt_d'] = loans['last_pymnt_d'].fillna(pd.to_datetime('2017-05-02'))\n",
    "loans['mo_sin_last_pymnt'] = ((ref_datetime - loans['last_pymnt_d']) / np.timedelta64(1, 'M')).astype(int)\n",
    "\n",
    "#last_credit_pull_d\n",
    "#Setting the nulls to May 2017, so that the calculated duration field will have the value -1\n",
    "loans['last_credit_pull_d'] = loans['last_credit_pull_d'].fillna(pd.to_datetime('2017-05-02'))\n",
    "loans['mo_sin_last_credit_pull'] = ((ref_datetime - loans['last_credit_pull_d']) / np.timedelta64(1, 'M')).astype(int)"
   ]
  },
  {
   "cell_type": "code",
   "execution_count": 15,
   "metadata": {
    "collapsed": false
   },
   "outputs": [],
   "source": [
    "# Imputing missing values\n",
    "\n",
    "#mths_since_last_delinq\n",
    "# this will be null when the applicant has no prior delinquencies. Imputing these to -1 to set these apart.\n",
    "loans['mths_since_last_delinq'] = loans['mths_since_last_delinq'].fillna(-1)\n",
    "\n",
    "#mths_since_last_record\n",
    "# this will be null when the applicant has no public records. Imputing these to -1 to set these apart.\n",
    "loans['mths_since_last_record'] = loans['mths_since_last_record'].fillna(-1)\n",
    "\n",
    "#mths_since_last_major_derog\n",
    "# this will be null when the applicant has no previous derogatory records. Imputing these to -1 to set these apart.\n",
    "loans['mths_since_last_major_derog'] = loans['mths_since_last_major_derog'].fillna(-1)\n",
    "\n",
    "#mo_sin_old_il_acct\n",
    "# this will be null when the applicant has no bank installment accounts. Imputing these to -1 to set these apart.\n",
    "loans['mo_sin_old_il_acct'] = loans['mo_sin_old_il_acct'].fillna(-1)\n",
    "\n",
    "#mths_since_recent_bc_dlq\n",
    "# this will be null when there's no previous bankcard delinquency. Imputing these to -1 to set these apart.\n",
    "loans['mths_since_recent_bc_dlq'] = loans['mths_since_recent_bc_dlq'].fillna(-1)\n",
    "\n",
    "#mths_since_recent_inq\n",
    "# this will be null when there's no previous inquiries. Imputing these to -1 to set these apart.\n",
    "loans['mths_since_recent_inq'] = loans['mths_since_recent_inq'].fillna(-1)\n",
    "\n",
    "#mths_since_recent_revol_delinq\n",
    "# this will be null when there's no previous revolving account delinquencies. Imputing these to -1 to set these apart.\n",
    "loans['mths_since_recent_revol_delinq'] = loans['mths_since_recent_revol_delinq'].fillna(-1)\n",
    "\n",
    "#num_tl_120dpd_2m\n",
    "# this will be null when there's no accounts currently 120 days past due. Imputing these to 0.\n",
    "loans['num_tl_120dpd_2m'] = loans['num_tl_120dpd_2m'].fillna(0)\n",
    "\n",
    "#mths_since_recent_bc\n",
    "# this will be null when info not available. Imputing these to the median\n",
    "loans['mths_since_recent_bc'] = loans['mths_since_recent_bc'].fillna(loans.mths_since_recent_bc.median())\n",
    "\n",
    "#bc_open_to_buy\n",
    "# this will be null when info is not available. Imputing these to the median\n",
    "loans['bc_open_to_buy'] = loans['bc_open_to_buy'].fillna(loans.bc_open_to_buy.median())\n",
    "\n",
    "#bc_util\n",
    "# this will be null when info is not available. Imputing these to the median\n",
    "loans['bc_util'] = loans['bc_util'].fillna(loans.bc_util.median())\n",
    "\n",
    "#avg_cur_bal\n",
    "# this will be null when info is not available. Imputing these to the median\n",
    "loans['avg_cur_bal'] = loans['avg_cur_bal'].fillna(loans.avg_cur_bal.median())\n",
    "\n",
    "#percent_bc_gt_75\n",
    "# this will be null when info is not available. Imputing these to the median\n",
    "loans['percent_bc_gt_75'] = loans['percent_bc_gt_75'].fillna(loans.percent_bc_gt_75.median())\n",
    "\n",
    "#revol_util\n",
    "# this will be null when info is not available. Imputing these to the median\n",
    "loans['revol_util'] = loans['revol_util'].fillna(loans.revol_util.median())"
   ]
  },
  {
   "cell_type": "code",
   "execution_count": 16,
   "metadata": {
    "collapsed": false
   },
   "outputs": [],
   "source": [
    "#Drop the now unused columns\n",
    "loans.drop(['issue_d', 'earliest_cr_line', 'last_pymnt_d', 'last_credit_pull_d'], axis = 1, inplace = True)\n"
   ]
  },
  {
   "cell_type": "code",
   "execution_count": 17,
   "metadata": {
    "collapsed": false
   },
   "outputs": [],
   "source": [
    "# Convert categorical features to One Hot Encode format using Pandas getDummies\n",
    "categorical_features = ['grade', 'sub_grade', 'home_ownership','emp_length', 'verification_status', 'pymnt_plan', 'purpose', 'addr_state',\n",
    "                       'initial_list_status']\n",
    "loans_with_dummies = pd.get_dummies(columns = categorical_features, data= loans)"
   ]
  },
  {
   "cell_type": "code",
   "execution_count": 31,
   "metadata": {
    "collapsed": false
   },
   "outputs": [],
   "source": [
    "# Implement a simple logistic regression\n",
    "\n",
    "from sklearn.model_selection import train_test_split\n",
    "from sklearn.linear_model import LogisticRegression\n",
    "\n",
    "# Identifying X values - Removing all derived columns, date columns, id and constants\n",
    "X = loans_with_dummies.drop(['term', 'zip_code','loan_status', 'application_type','id','term_mnths', 'late_fee_rec_indicator', \n",
    "                             'loan_class', 'next_pymnt_d' ], axis = 1)\n",
    "loans_with_dummies['loan_class'] = loans_with_dummies.loan_class.astype('category')\n",
    "Y = loans_with_dummies.loan_class.cat.codes\n"
   ]
  },
  {
   "cell_type": "code",
   "execution_count": 32,
   "metadata": {
    "collapsed": false
   },
   "outputs": [
    {
     "name": "stdout",
     "output_type": "stream",
     "text": [
      "(113799, 201)\n",
      "(113799,)\n",
      "(48771, 201)\n",
      "(48771,)\n"
     ]
    },
    {
     "data": {
      "text/plain": [
       "LogisticRegression(C=1.0, class_weight='balanced', dual=False,\n",
       "          fit_intercept=True, intercept_scaling=1, max_iter=100,\n",
       "          multi_class='ovr', n_jobs=1, penalty='l2', random_state=None,\n",
       "          solver='liblinear', tol=0.0001, verbose=0, warm_start=False)"
      ]
     },
     "execution_count": 32,
     "metadata": {},
     "output_type": "execute_result"
    }
   ],
   "source": [
    "# Split the data into a training and test set.\n",
    "Xlr, Xtestlr, ylr, ytestlr = train_test_split(X.values, Y.values, test_size = 0.30)\n",
    "\n",
    "print(Xlr.shape)\n",
    "print (ylr.shape)\n",
    "\n",
    "print(Xtestlr.shape)\n",
    "print(ytestlr.shape)\n",
    "\n",
    "#Using the class_weight parameter as balanced so that the algo adjusts for the less frequent loan classes of bad and delinquent\n",
    "clf = LogisticRegression(class_weight= 'balanced')\n",
    "# Fit the model on the trainng data.\n",
    "clf.fit(Xlr, ylr)\n"
   ]
  },
  {
   "cell_type": "code",
   "execution_count": 34,
   "metadata": {
    "collapsed": false
   },
   "outputs": [
    {
     "name": "stdout",
     "output_type": "stream",
     "text": [
      "Accuracy score from learning dataset 0.959920561692\n",
      "Accuracy score from testing dataset 0.961021918763\n"
     ]
    }
   ],
   "source": [
    "# Accuracy score\n",
    "from sklearn.metrics import accuracy_score\n",
    "\n",
    "# Print the accuracy from the test data.\n",
    "print('Accuracy score from learning dataset',accuracy_score(ylr, clf.predict(Xlr) ))\n",
    "\n",
    "# Print the accuracy from the test data.\n",
    "print('Accuracy score from testing dataset',accuracy_score(ytestlr, clf.predict(Xtestlr)))"
   ]
  },
  {
   "cell_type": "code",
   "execution_count": 41,
   "metadata": {
    "collapsed": false
   },
   "outputs": [
    {
     "name": "stdout",
     "output_type": "stream",
     "text": [
      "Log loss from learning dataset 0.244815742657\n",
      "Log loss from testing dataset 0.243824316919\n"
     ]
    }
   ],
   "source": [
    "# Log loss\n",
    "from sklearn.metrics import log_loss\n",
    "\n",
    "# Print the log loss from the test data.\n",
    "print('Log loss from learning dataset',log_loss(ylr, clf.predict_proba(Xlr)))\n",
    "\n",
    "# Print the log loss from the test data.\n",
    "print('Log loss from testing dataset',log_loss(ytestlr, clf.predict_proba(Xtestlr)))\n"
   ]
  },
  {
   "cell_type": "code",
   "execution_count": 44,
   "metadata": {
    "collapsed": false
   },
   "outputs": [
    {
     "name": "stdout",
     "output_type": "stream",
     "text": [
      "ROC AUC score from learning dataset 0.878122996468\n",
      "ROC AUC score from testing dataset 0.831897583324\n"
     ]
    }
   ],
   "source": [
    "# ROC AUC score\n",
    "from sklearn.metrics import roc_auc_score\n",
    "\n",
    "# Print the ROC AUC score from the test data.\n",
    "print('ROC AUC score from learning dataset',log_loss(ylr, clf.decision_function(Xlr)))\n",
    "\n",
    "# Print the ROC AUC score from the test data.\n",
    "print('ROC AUC score from testing dataset',log_loss(ytestlr, clf.decision_function(Xtestlr)))\n",
    "\n"
   ]
  },
  {
   "cell_type": "code",
   "execution_count": 47,
   "metadata": {
    "collapsed": false
   },
   "outputs": [
    {
     "name": "stdout",
     "output_type": "stream",
     "text": [
      "Learing dataset: \n",
      "\n",
      "[[13525     0    43]\n",
      " [    0   311  3238]\n",
      " [    0  1280 95402]]\n",
      "Test dataset: \n",
      "\n",
      "[[ 5799     1    12]\n",
      " [    0   135  1334]\n",
      " [    1   553 40936]]\n"
     ]
    }
   ],
   "source": [
    "# Confusion Matrix\n",
    "from sklearn.metrics import confusion_matrix\n",
    "\n",
    "print ('Learing dataset: \\n')\n",
    "print (confusion_matrix(ylr, clf.predict(Xlr)))\n",
    "\n",
    "print ('Test dataset: \\n')\n",
    "print (confusion_matrix(ytestlr, clf.predict(Xtestlr)))"
   ]
  }
 ],
 "metadata": {
  "kernelspec": {
   "display_name": "Python 3",
   "language": "python",
   "name": "python3"
  },
  "language_info": {
   "codemirror_mode": {
    "name": "ipython",
    "version": 3
   },
   "file_extension": ".py",
   "mimetype": "text/x-python",
   "name": "python",
   "nbconvert_exporter": "python",
   "pygments_lexer": "ipython3",
   "version": "3.6.0"
  }
 },
 "nbformat": 4,
 "nbformat_minor": 2
}
