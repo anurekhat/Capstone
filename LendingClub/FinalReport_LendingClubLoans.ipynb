{
 "cells": [
  {
   "cell_type": "code",
   "execution_count": 62,
   "metadata": {
    "collapsed": false
   },
   "outputs": [],
   "source": [
    "import pandas as pd\n",
    "import numpy as np\n",
    "import matplotlib.pyplot as plt\n",
    "import seaborn as sns\n",
    "import scipy.stats as st\n",
    "import statsmodels.stats.weightstats as wst\n",
    "import pandas_ml as pdml\n",
    "import xgboost as xgb\n",
    "import lightgbm as lgb \n",
    "\n",
    "from sklearn.metrics import accuracy_score\n",
    "from sklearn.metrics import roc_auc_score\n",
    "from sklearn.metrics import precision_recall_fscore_support\n",
    "from sklearn.metrics import f1_score\n",
    "from sklearn.metrics import confusion_matrix\n",
    "\n",
    "from sklearn.model_selection import GridSearchCV\n",
    "\n",
    "from xgboost import plot_importance\n",
    "from xgboost.sklearn import XGBClassifier\n",
    "\n",
    "from sklearn.ensemble import IsolationForest\n",
    "\n",
    "%matplotlib inline\n",
    "pd.options.display.max_columns = None\n",
    "pd.options.display.max_rows = None\n",
    "plt.rcParams['figure.figsize'] = (10.0, 8.0)"
   ]
  },
  {
   "cell_type": "code",
   "execution_count": 165,
   "metadata": {
    "collapsed": false
   },
   "outputs": [],
   "source": [
    "#Read the prepared dataset\n",
    "loans = pd.read_csv('prepared_loans.csv')\n",
    "#create ModelFrame object\n",
    "loans_mf = pdml.ModelFrame(loans)\n",
    "#loans_mf.drop(['Unnamed: 0'], axis = 1, inplace = True)\n"
   ]
  },
  {
   "cell_type": "code",
   "execution_count": 166,
   "metadata": {
    "collapsed": false
   },
   "outputs": [],
   "source": [
    "#Split into training and test data sets\n",
    "train_loans, test_loans = loans_mf.model_selection.train_test_split(test_size = 0.30, random_state = 5)"
   ]
  },
  {
   "cell_type": "code",
   "execution_count": 205,
   "metadata": {
    "collapsed": false
   },
   "outputs": [
    {
     "data": {
      "text/plain": [
       "0    166609\n",
       "1     25310\n",
       "Name: .target, dtype: int64"
      ]
     },
     "execution_count": 205,
     "metadata": {},
     "output_type": "execute_result"
    }
   ],
   "source": [
    "train_loans.target.value_counts()"
   ]
  },
  {
   "cell_type": "code",
   "execution_count": 214,
   "metadata": {
    "collapsed": false
   },
   "outputs": [],
   "source": [
    "#Oversampling the training dataset\n",
    "sampler = train_loans.imbalance.over_sampling.SMOTE()\n",
    "sampled_lr_loans = train_loans.fit_sample(sampler)"
   ]
  },
  {
   "cell_type": "code",
   "execution_count": 215,
   "metadata": {
    "collapsed": false
   },
   "outputs": [
    {
     "data": {
      "text/plain": [
       "1    166609\n",
       "0    166609\n",
       "Name: .target, dtype: int64"
      ]
     },
     "execution_count": 215,
     "metadata": {},
     "output_type": "execute_result"
    }
   ],
   "source": [
    "sampled_lr_loans.target.value_counts()"
   ]
  },
  {
   "cell_type": "markdown",
   "metadata": {},
   "source": [
    "## Light GBM"
   ]
  },
  {
   "cell_type": "code",
   "execution_count": 216,
   "metadata": {
    "collapsed": true
   },
   "outputs": [],
   "source": [
    "train_lgb = lgb.Dataset(sampled_lr_loans.data, label=sampled_lr_loans.target)\n",
    "\n",
    "param = {'num_leaves':1000, 'objective':'binary','max_depth':17,'learning_rate':0.15,'max_bin':200}\n",
    "param['metric'] = ['auc', 'f1_weighted']\n",
    "param['min_data_in_leaf'] = 150"
   ]
  },
  {
   "cell_type": "code",
   "execution_count": 217,
   "metadata": {
    "collapsed": false
   },
   "outputs": [],
   "source": [
    "num_round=500\n",
    "lgbm=lgb.train(param,train_lgb,num_round)\n"
   ]
  },
  {
   "cell_type": "code",
   "execution_count": 218,
   "metadata": {
    "collapsed": false
   },
   "outputs": [],
   "source": [
    "predict_prob=lgbm.predict(test_loans.data)\n",
    "predicted = np.array([0 if p < 0.4 else 1 for p in predict_prob])"
   ]
  },
  {
   "cell_type": "code",
   "execution_count": 219,
   "metadata": {
    "collapsed": false
   },
   "outputs": [
    {
     "data": {
      "text/plain": [
       "0    76053\n",
       "1     6199\n",
       "dtype: int64"
      ]
     },
     "execution_count": 219,
     "metadata": {},
     "output_type": "execute_result"
    }
   ],
   "source": [
    "pd.Series(predicted).value_counts()"
   ]
  },
  {
   "cell_type": "code",
   "execution_count": 220,
   "metadata": {
    "collapsed": false
   },
   "outputs": [
    {
     "name": "stdout",
     "output_type": "stream",
     "text": [
      "AUC Score (Test): 0.670561\n",
      "Class Level precision recall (Test):\n",
      "         F1  Precision    Recall  Total\n",
      "0  0.939492   0.911759  0.968964  71563\n",
      "1  0.471104   0.641716  0.372158  10689\n"
     ]
    }
   ],
   "source": [
    "print (\"AUC Score (Test): %f\" % roc_auc_score(np.array(test_loans.target), np.array(predicted)))\n",
    "   \n",
    "print (\"Class Level precision recall (Test):\")\n",
    "prec, recall, f1, support = precision_recall_fscore_support(np.array(test_loans.target), np.array(predicted))\n",
    "\n",
    "prf_test = pd.DataFrame({'Precision': prec, 'Recall': recall, 'F1': f1, 'Total': support})    \n",
    "print (prf_test)"
   ]
  },
  {
   "cell_type": "code",
   "execution_count": 180,
   "metadata": {
    "collapsed": false
   },
   "outputs": [
    {
     "name": "stdout",
     "output_type": "stream",
     "text": [
      "                            Importance                     feature\n",
      "total_il_high_credit_limit        8593  total_il_high_credit_limit\n",
      "dti                               7243                         dti\n",
      "bc_open_to_buy                    6764              bc_open_to_buy\n",
      "mo_sin_old_il_acct                6594          mo_sin_old_il_acct\n",
      "annual_inc                        6337                  annual_inc\n"
     ]
    },
    {
     "data": {
      "text/plain": [
       "<matplotlib.axes._subplots.AxesSubplot at 0x1c78017da90>"
      ]
     },
     "execution_count": 180,
     "metadata": {},
     "output_type": "execute_result"
    },
    {
     "data": {
      "image/png": "[encoded data removed]",
      "text/plain": [
       "<matplotlib.figure.Figure at 0x1c78017deb8>"
      ]
     },
     "metadata": {},
     "output_type": "display_data"
    }
   ],
   "source": [
    "importance = lgbm.feature_importance()\n",
    "importance = pd.DataFrame(importance, index=train_loans.data.columns, \n",
    "                          columns=[\"Importance\"])\n",
    "importance.sort_values('Importance', ascending = False, inplace=True)\n",
    "importance['feature'] = importance.index\n",
    "print(importance.head())\n",
    "sns.barplot(y = 'feature', x = 'Importance', data= importance.head(50) )"
   ]
  },
  {
   "cell_type": "code",
   "execution_count": 173,
   "metadata": {
    "collapsed": false
   },
   "outputs": [],
   "source": [
    "def modelfit(alg, train_mf, test_mf, useTrainCV=True, cv_folds=5, early_stopping_rounds=50):\n",
    "    \n",
    "    if useTrainCV:\n",
    "        xgb_param = alg.get_xgb_params()\n",
    "        xgtrain = xgb.DMatrix(train_mf.data, label=train_mf.target, feature_names=list(train_loans.data.columns))\n",
    "        cvresult = xgb.cv(xgb_param, xgtrain, num_boost_round=alg.get_params()['n_estimators'], nfold=cv_folds,\n",
    "            metrics='auc', early_stopping_rounds=early_stopping_rounds)\n",
    "        alg.set_params(n_estimators=cvresult.shape[0])\n",
    "    \n",
    "    #Fit the algorithm on the data\n",
    "    alg.fit(train_mf.data, train_mf.target,eval_metric='map')\n",
    "        \n",
    "    #Predict training set:\n",
    "    dtrain_predictions = alg.predict(train_mf.data)\n",
    "    dtrain_predprob = alg.predict_proba(train_mf.data)[:,1]\n",
    "    \n",
    "    #Predict test st\n",
    "    dtest_predictions = alg.predict(test_mf.data)\n",
    "    dtest_predprob = alg.predict_proba(test_mf.data)[:,1]\n",
    "        \n",
    "    #Print model report:\n",
    "    print (\"\\nModel Report\")\n",
    "    print (\"F1 Score (Train) : %.4g\" % f1_score(np.array(train_mf.target), dtrain_predictions))\n",
    "    print (\"F1 Score (Test) : %.4g\" % f1_score(np.array(test_mf.target), dtest_predictions))\n",
    "    \n",
    "    print (\"AUC Score (Train): %f\" % roc_auc_score(np.array(train_mf.target), dtrain_predprob))\n",
    "    print (\"AUC Score (Test): %f\" % roc_auc_score(np.array(test_mf.target), dtest_predprob))\n",
    "   \n",
    "    print (\"Class Level precision recall (Test):\")\n",
    "    prec, recall, f1, support = precision_recall_fscore_support(np.array(test_mf.target), dtest_predictions)\n",
    "\n",
    "    prf_test = pd.DataFrame({'Precision': prec, 'Recall': recall, 'F1': f1, 'Total': support})\n",
    "    print (prf_test)\n",
    "    #plot_importance(alg)\n",
    "    importance = alg.feature_importances_\n",
    "    importance = pd.DataFrame(importance, index=train_mf.data.columns, \n",
    "                          columns=[\"Importance\"])\n",
    "    importance.sort_values('Importance', ascending = False, inplace=True)\n",
    "    importance['feature'] = importance.index\n",
    "    print(importance.head())\n",
    "    sns.barplot(y = 'feature', x = 'Importance', data= importance.head(50) )"
   ]
  },
  {
   "cell_type": "code",
   "execution_count": 174,
   "metadata": {
    "collapsed": true
   },
   "outputs": [],
   "source": [
    "def modelscore(alg, test_mf, param_text ) :\n",
    "    print(\"-----------------------------------------------------------------------------------------------------------\")\n",
    "    print(param_text)\n",
    "    print (\"AUC Score (Test): %f\" % roc_auc_score(np.array(test_mf.target), np.array(test_mf.predict(alg))))\n",
    "   \n",
    "    print (\"Class Level precision recall (Test):\")\n",
    "    prec, recall, f1, support = precision_recall_fscore_support(np.array(test_mf.target), np.array(test_mf.predict(alg)))\n",
    "\n",
    "    prf_test = pd.DataFrame({'Precision': prec, 'Recall': recall, 'F1': f1, 'Total': support})\n",
    "    print (prf_test)"
   ]
  },
  {
   "cell_type": "markdown",
   "metadata": {},
   "source": [
    "### XGBoost with pandas_ml"
   ]
  },
  {
   "cell_type": "code",
   "execution_count": 175,
   "metadata": {
    "collapsed": false
   },
   "outputs": [],
   "source": [
    "#Using XGBoost without CV\n",
    "xg_est = loans_mf.xgboost.XGBClassifier(booster = 'gbtree',n_jobs=-1, silent=False,\n",
    "                                        learning_rate=0.15, min_child_weight=6, max_depth=17, gamma=0.1, max_delta_step=1,\n",
    "                                        subsample=0.4, colsample_bytree = 0.5, scale_pos_weight=1, \n",
    "                                        objective='binary:logistic', eval_metric = 'auc', random_state=4,\n",
    "                                        missing=None, n_estimators=500  )"
   ]
  },
  {
   "cell_type": "code",
   "execution_count": 176,
   "metadata": {
    "collapsed": false
   },
   "outputs": [
    {
     "name": "stdout",
     "output_type": "stream",
     "text": [
      "\n",
      "Model Report\n",
      "F1 Score (Train) : 0.9994\n",
      "F1 Score (Test) : 0.4248\n",
      "AUC Score (Train): 1.000000\n",
      "AUC Score (Test): 0.798675\n",
      "Class Level precision recall (Test):\n",
      "         F1  Precision    Recall  Total\n",
      "0  0.936466   0.905807  0.969272  71563\n",
      "1  0.424835   0.612511  0.325194  10689\n",
      "                Importance         feature\n",
      "dti               0.039208             dti\n",
      "revol_util        0.037926      revol_util\n",
      "annual_inc        0.035107      annual_inc\n",
      "revol_bal         0.034981       revol_bal\n",
      "bc_open_to_buy    0.034723  bc_open_to_buy\n"
     ]
    },
    {
     "data": {
      "image/png": "[encoded data removed]",
      "text/plain": [
       "<matplotlib.figure.Figure at 0x1c79bd20ac8>"
      ]
     },
     "metadata": {},
     "output_type": "display_data"
    }
   ],
   "source": [
    "modelfit(xg_est, train_loans, test_loans, useTrainCV= False )"
   ]
  },
  {
   "cell_type": "code",
   "execution_count": 20,
   "metadata": {
    "collapsed": false
   },
   "outputs": [
    {
     "name": "stdout",
     "output_type": "stream",
     "text": [
      "-----------------------------------------------------------------------------------------------------------\n",
      "max_depth= 18 min_child_weight= 6\n",
      "AUC Score (Test): 0.507315\n",
      "Class Level precision recall (Test):\n",
      "         F1  Precision    Recall  Total\n",
      "0  0.040198   0.348066  0.021331  11814\n",
      "1  0.920811   0.858184  0.993299  70438\n",
      "-----------------------------------------------------------------------------------------------------------\n",
      "max_depth= 19 min_child_weight= 6\n",
      "AUC Score (Test): 0.507087\n",
      "Class Level precision recall (Test):\n",
      "         F1  Precision    Recall  Total\n",
      "0  0.040232   0.331586  0.021415  11814\n",
      "1  0.920547   0.858128  0.992760  70438\n",
      "-----------------------------------------------------------------------------------------------------------\n",
      "max_depth= 20 min_child_weight= 6\n",
      "AUC Score (Test): 0.507757\n",
      "Class Level precision recall (Test):\n",
      "         F1  Precision    Recall  Total\n",
      "0  0.042719   0.344872  0.022770  11814\n",
      "1  0.920637   0.858295  0.992745  70438\n"
     ]
    }
   ],
   "source": [
    "#Test 1 - max_depth and min_child_weight\n",
    "param1_vals = range(18,21,1)\n",
    "param2_vals = range(6, 7, 1)\n",
    "#param_1 = param_test1.ke\n",
    "for param1_val in param1_vals  :\n",
    "    xg_est.set_params(max_depth = param1_val)\n",
    "    for param2_val in param2_vals :\n",
    "        xg_est.set_params(min_child_weight = param2_val)\n",
    "        train_loans.fit(xg_est )\n",
    "        modelscore(xg_est, test_loans, 'max_depth= '+str(param1_val)+ ' min_child_weight= '+str(param2_val))\n",
    "    \n"
   ]
  },
  {
   "cell_type": "code",
   "execution_count": 22,
   "metadata": {
    "collapsed": false
   },
   "outputs": [
    {
     "name": "stdout",
     "output_type": "stream",
     "text": [
      "-----------------------------------------------------------------------------------------------------------\n",
      "gamma= 0\n",
      "AUC Score (Test): 0.506342\n",
      "Class Level precision recall (Test):\n",
      "         F1  Precision    Recall  Total\n",
      "0  0.036457   0.328530  0.019299  11814\n",
      "1  0.920708   0.857942  0.993384  70438\n",
      "-----------------------------------------------------------------------------------------------------------\n",
      "gamma= 0.1\n",
      "AUC Score (Test): 0.507280\n",
      "Class Level precision recall (Test):\n",
      "         F1  Precision    Recall  Total\n",
      "0  0.039770   0.351695  0.021077  11814\n",
      "1  0.920885   0.858175  0.993484  70438\n",
      "-----------------------------------------------------------------------------------------------------------\n",
      "gamma= 0.2\n",
      "AUC Score (Test): 0.506554\n",
      "Class Level precision recall (Test):\n",
      "         F1  Precision    Recall  Total\n",
      "0  0.036684   0.341282  0.019384  11814\n",
      "1  0.920885   0.857994  0.993725  70438\n",
      "-----------------------------------------------------------------------------------------------------------\n",
      "gamma= 0.3\n",
      "AUC Score (Test): 0.506956\n",
      "Class Level precision recall (Test):\n",
      "         F1  Precision    Recall  Total\n",
      "0  0.038523   0.345272  0.020400  11814\n",
      "1  0.920851   0.858094  0.993512  70438\n"
     ]
    }
   ],
   "source": [
    "#Test 2 - gamma\n",
    "param1_vals = [0, 0.1, 0.2, 0.3]\n",
    "for param1_val in param1_vals  :\n",
    "    xg_est.set_params(gamma = param1_val)\n",
    "    train_loans.fit(xg_est )\n",
    "    modelscore(xg_est, test_loans, 'gamma= '+str(param1_val))"
   ]
  },
  {
   "cell_type": "code",
   "execution_count": 33,
   "metadata": {
    "collapsed": false
   },
   "outputs": [
    {
     "name": "stdout",
     "output_type": "stream",
     "text": [
      "-----------------------------------------------------------------------------------------------------------\n",
      "subsample= 0.4 colsample_bytree= 0.4\n",
      "AUC Score (Test): 0.507882\n",
      "Class Level precision recall (Test):\n",
      "         F1  Precision    Recall  Total\n",
      "0  0.047816   0.298929  0.025986  11814\n",
      "1  0.919380   0.858332  0.989778  70438\n",
      "-----------------------------------------------------------------------------------------------------------\n",
      "subsample= 0.4 colsample_bytree= 0.5\n",
      "AUC Score (Test): 0.510209\n",
      "Class Level precision recall (Test):\n",
      "         F1  Precision    Recall  Total\n",
      "0  0.056390   0.332117  0.030811  11814\n",
      "1  0.919641   0.858914  0.989608  70438\n",
      "-----------------------------------------------------------------------------------------------------------\n",
      "subsample= 0.4 colsample_bytree= 0.6\n",
      "AUC Score (Test): 0.509516\n",
      "Class Level precision recall (Test):\n",
      "         F1  Precision    Recall  Total\n",
      "0  0.055097   0.311790  0.030218  11814\n",
      "1  0.919199   0.858742  0.988813  70438\n",
      "-----------------------------------------------------------------------------------------------------------\n",
      "subsample= 0.5 colsample_bytree= 0.4\n",
      "AUC Score (Test): 0.508622\n",
      "Class Level precision recall (Test):\n",
      "         F1  Precision    Recall  Total\n",
      "0  0.047289   0.343249  0.025394  11814\n",
      "1  0.920377   0.858512  0.991851  70438\n",
      "-----------------------------------------------------------------------------------------------------------\n",
      "subsample= 0.5 colsample_bytree= 0.5\n",
      "AUC Score (Test): 0.508880\n",
      "Class Level precision recall (Test):\n",
      "         F1  Precision    Recall  Total\n",
      "0  0.049648   0.331590  0.026833  11814\n",
      "1  0.920018   0.858579  0.990928  70438\n",
      "-----------------------------------------------------------------------------------------------------------\n",
      "subsample= 0.5 colsample_bytree= 0.6\n",
      "AUC Score (Test): 0.508505\n",
      "Class Level precision recall (Test):\n",
      "         F1  Precision    Recall  Total\n",
      "0  0.048925   0.319062  0.026494  11814\n",
      "1  0.919787   0.858486  0.990516  70438\n",
      "-----------------------------------------------------------------------------------------------------------\n",
      "subsample= 0.6 colsample_bytree= 0.4\n",
      "AUC Score (Test): 0.508597\n",
      "Class Level precision recall (Test):\n",
      "         F1  Precision    Recall  Total\n",
      "0  0.045552   0.364676  0.024293  11814\n",
      "1  0.920824   0.858504  0.992902  70438\n",
      "-----------------------------------------------------------------------------------------------------------\n",
      "subsample= 0.6 colsample_bytree= 0.5\n",
      "AUC Score (Test): 0.508615\n",
      "Class Level precision recall (Test):\n",
      "         F1  Precision    Recall  Total\n",
      "0  0.047417   0.341270  0.025478  11814\n",
      "1  0.920334   0.858511  0.991752  70438\n",
      "-----------------------------------------------------------------------------------------------------------\n",
      "subsample= 0.6 colsample_bytree= 0.6\n",
      "AUC Score (Test): 0.508164\n",
      "Class Level precision recall (Test):\n",
      "         F1  Precision    Recall  Total\n",
      "0  0.045731   0.333717  0.024547  11814\n",
      "1  0.920281   0.858398  0.991780  70438\n"
     ]
    }
   ],
   "source": [
    "#Test 3 - subsample and colsample_bytree\n",
    "\n",
    "param1_vals = [i/10.0 for i in range(4,7)]\n",
    "param2_vals = [i/10.0 for i in range(4,7)]\n",
    "\n",
    "for param1_val in param1_vals  :\n",
    "    xg_est.set_params(subsample = param1_val)\n",
    "    for param2_val in param2_vals :\n",
    "        xg_est.set_params(colsample_bytree = param2_val)\n",
    "        train_loans.fit(xg_est )\n",
    "        modelscore(xg_est, test_loans, 'subsample= '+str(param1_val)+ ' colsample_bytree= '+str(param2_val))"
   ]
  },
  {
   "cell_type": "markdown",
   "metadata": {},
   "source": [
    "## XG Boost"
   ]
  },
  {
   "cell_type": "code",
   "execution_count": null,
   "metadata": {
    "collapsed": true
   },
   "outputs": [],
   "source": [
    "import xgboost as xgb\n",
    "\n",
    "dtrain = xgb.DMatrix(train_loans.data, label = train_loans.target, feature_names=list(train_loans.data.columns))\n",
    "#clf_xg = xgb.xgboost()\n",
    "dtest = xgb.DMatrix(test_loans.data, label = test_loans.target, feature_names=list(train_loans.data.columns))"
   ]
  },
  {
   "cell_type": "code",
   "execution_count": null,
   "metadata": {
    "collapsed": false
   },
   "outputs": [],
   "source": [
    "param = {'base_score' : 0.5,'objective':'binary:logistic', 'learning_rate':0.1, 'colsample_bylevel' : 1, \n",
    "        'colsample_bytree': 1, }\n",
    "param['gamma'] = 0\n",
    "param['max_depth'] = 15\n",
    "param['scale_pos_weight']= 0.17\n",
    "param['min_child_weight']=1\n",
    "param['max_delta_step'] = 1\n",
    "param['eval_metric'] = 'error'\n",
    "\n",
    "evallist  = [(dtest,'eval'), (dtrain,'train')]\n",
    "\n",
    "num_round = 50\n",
    "bst = xgb.train( param, dtrain, num_round )\n"
   ]
  },
  {
   "cell_type": "code",
   "execution_count": null,
   "metadata": {
    "collapsed": false
   },
   "outputs": [],
   "source": [
    "predicted = bst.predict(dtest )\n",
    "predicted_new = np.array([1 if p >= 0.5 else 0 for p in predicted])"
   ]
  },
  {
   "cell_type": "code",
   "execution_count": null,
   "metadata": {
    "collapsed": false
   },
   "outputs": [],
   "source": [
    "from sklearn.metrics import precision_recall_fscore_support\n",
    "\n",
    "prec, recall, f1, support = precision_recall_fscore_support(np.array(test_loans.target), predicted_new)\n",
    "\n",
    "prf_test = pd.DataFrame({'Precision': prec, 'Recall': recall, 'F1': f1, 'Total': support})\n",
    "print (prf_test)"
   ]
  },
  {
   "cell_type": "markdown",
   "metadata": {},
   "source": [
    "## Random Forest"
   ]
  },
  {
   "cell_type": "code",
   "execution_count": null,
   "metadata": {
    "collapsed": false
   },
   "outputs": [],
   "source": [
    "#RF using CV\n",
    "rf_est = loans_mf.ensemble.RandomForestClassifier()\n",
    "parameters = {'n_estimators' : [10, 20, 30],\n",
    "              'criterion': ['gini', 'entropy'],\n",
    "              'min_samples_split' : [10, 15, 20],\n",
    "              'min_samples_leaf': [5, 10],\n",
    "             'max_features': ['auto']}\n",
    "rf_cv = loans_mf.model_selection.GridSearchCV(rf_est, parameters )"
   ]
  },
  {
   "cell_type": "code",
   "execution_count": 92,
   "metadata": {
    "collapsed": true
   },
   "outputs": [],
   "source": [
    "#RF without CV\n",
    "rf_est = loans_mf.ensemble.RandomForestClassifier(n_estimators = 100, max_features = 40, criterion = 'gini', class_weight = 'balanced')"
   ]
  },
  {
   "cell_type": "code",
   "execution_count": 93,
   "metadata": {
    "collapsed": false
   },
   "outputs": [
    {
     "data": {
      "text/plain": [
       "RandomForestClassifier(bootstrap=True, class_weight='balanced',\n",
       "            criterion='gini', max_depth=None, max_features=40,\n",
       "            max_leaf_nodes=None, min_impurity_split=1e-07,\n",
       "            min_samples_leaf=1, min_samples_split=2,\n",
       "            min_weight_fraction_leaf=0.0, n_estimators=100, n_jobs=1,\n",
       "            oob_score=False, random_state=None, verbose=0,\n",
       "            warm_start=False)"
      ]
     },
     "execution_count": 93,
     "metadata": {},
     "output_type": "execute_result"
    }
   ],
   "source": [
    "#sample_weight = np.array([6 if i == 1 else 1 for i in train_loans.target])\n",
    "train_loans.fit(rf_est)"
   ]
  },
  {
   "cell_type": "code",
   "execution_count": 94,
   "metadata": {
    "collapsed": true
   },
   "outputs": [],
   "source": [
    "predicted = test_loans.predict(rf_est)"
   ]
  },
  {
   "cell_type": "code",
   "execution_count": 95,
   "metadata": {
    "collapsed": false
   },
   "outputs": [
    {
     "data": {
      "text/html": [
       "<div>\n",
       "<table border=\"1\" class=\"dataframe\">\n",
       "  <thead>\n",
       "    <tr style=\"text-align: right;\">\n",
       "      <th></th>\n",
       "      <th>precision</th>\n",
       "      <th>recall</th>\n",
       "      <th>f1-score</th>\n",
       "      <th>support</th>\n",
       "    </tr>\n",
       "  </thead>\n",
       "  <tbody>\n",
       "    <tr>\n",
       "      <th>0</th>\n",
       "      <td>0.901634</td>\n",
       "      <td>0.979081</td>\n",
       "      <td>0.938763</td>\n",
       "      <td>71563</td>\n",
       "    </tr>\n",
       "    <tr>\n",
       "      <th>1</th>\n",
       "      <td>0.670410</td>\n",
       "      <td>0.284872</td>\n",
       "      <td>0.399842</td>\n",
       "      <td>10689</td>\n",
       "    </tr>\n",
       "  </tbody>\n",
       "</table>\n",
       "</div>"
      ],
      "text/plain": [
       "   precision    recall  f1-score  support\n",
       "0   0.901634  0.979081  0.938763    71563\n",
       "1   0.670410  0.284872  0.399842    10689"
      ]
     },
     "execution_count": 95,
     "metadata": {},
     "output_type": "execute_result"
    }
   ],
   "source": [
    "test_loans.metrics.precision_recall_fscore_support()"
   ]
  },
  {
   "cell_type": "code",
   "execution_count": 222,
   "metadata": {
    "collapsed": false
   },
   "outputs": [
    {
     "name": "stdout",
     "output_type": "stream",
     "text": [
      "                         Importance                  feature\n",
      "mo_sin_last_credit_pull    0.228334  mo_sin_last_credit_pull\n",
      "int_rate                   0.049636                 int_rate\n",
      "dti                        0.026762                      dti\n",
      "annual_inc                 0.026410               annual_inc\n",
      "mo_sin_old_rev_tl_op       0.021381     mo_sin_old_rev_tl_op\n"
     ]
    },
    {
     "data": {
      "image/png": "[encoded data removed]",
      "text/plain": [
       "<matplotlib.figure.Figure at 0x1c7806cdbe0>"
      ]
     },
     "metadata": {},
     "output_type": "display_data"
    }
   ],
   "source": [
    "importance = rf_est.feature_importances_\n",
    "importance = pd.DataFrame(importance, index=train_loans.data.columns, \n",
    "                          columns=[\"Importance\"])\n",
    "importance.sort_values('Importance', ascending = False, inplace=True)\n",
    "\n",
    "importance['feature'] = importance.index\n",
    "print(importance.head())\n",
    "sns.barplot(y = 'feature', x = 'Importance', data= importance.head(50) )\n",
    "x = range(importance.shape[0])\n",
    "y = importance.ix[:, 0]\n",
    "yerr = importance.ix[:, 1]\n",
    "\n",
    "#plt.bar(x, y, yerr=yerr, align=\"center\")\n",
    "\n",
    "#plt.show()"
   ]
  }
 ],
 "metadata": {
  "kernelspec": {
   "display_name": "Python 3",
   "language": "python",
   "name": "python3"
  },
  "language_info": {
   "codemirror_mode": {
    "name": "ipython",
    "version": 3
   },
   "file_extension": ".py",
   "mimetype": "text/x-python",
   "name": "python",
   "nbconvert_exporter": "python",
   "pygments_lexer": "ipython3",
   "version": "3.6.0"
  }
 },
 "nbformat": 4,
 "nbformat_minor": 2
}
